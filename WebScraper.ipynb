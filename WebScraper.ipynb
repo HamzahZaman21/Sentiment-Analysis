{
 "cells": [
  {
   "cell_type": "code",
   "execution_count": 1,
   "id": "8faa4858",
   "metadata": {},
   "outputs": [],
   "source": [
    "import requests\n",
    "from bs4 import BeautifulSoup as BS\n",
    "import pandas as pd\n",
    "\n",
    "title = []\n",
    "date = []\n",
    "desc = []\n",
    "review = []\n",
    "company = []\n",
    "i = 1\n",
    "count = 0\n",
    "\n",
    "url_head = 'https://www.trustpilot.com/review/www.easports.com'\n",
    "page = requests.get(url_head)\n",
    "soup = BS(page.content, 'html.parser')\n",
    "h = soup.find('section', class_ = 'styles_businessInformation__6ks_E')\n",
    "c=h.find('span', class_ = 'typography_display-s__qOjh6 typography_appearance-default__AAY17 title_displayName__TtDDM').get_text(strip=True)\n",
    "r = h.find('span', class_ = 'typography_body-l__KUYFJ typography_appearance-subtle__8_H2l styles_text__W4hWi').get_text(strip=True)\n",
    "total_reviews = r[:r.find('•')] #not using it anywhere\n",
    "\n",
    "while count < 500:\n",
    "    url = 'https://www.trustpilot.com/review/www.easports.com?page={}'.format(i)\n",
    "    i = i + 1\n",
    "    page = requests.get(url)\n",
    "    soup = BS(page.content, 'html.parser')\n",
    "    lists = soup.find_all('section', class_ = 'styles_reviewContentwrapper__zH_9M')\n",
    "    for list in lists:\n",
    "        count = count + 1\n",
    "        company.append(c)\n",
    "        title.append(list.find('h2', class_ = 'typography_heading-s__f7029 typography_appearance-default__AAY17').text)\n",
    "        review.append(list.find('div', class_ = 'styles_reviewHeader__iU9Px')['data-service-review-rating'])\n",
    "        d = list.find('p', class_ = 'typography_body-m__xgxZ_ typography_appearance-default__AAY17 typography_color-black__5LYEn').text\n",
    "        date.append(d[20:])\n",
    "        p = list.find('p', class_ = 'typography_body-l__KUYFJ typography_appearance-default__AAY17 typography_color-black__5LYEn')\n",
    "        if p is None:\n",
    "            desc.append('')\n",
    "        else:\n",
    "            desc.append(p.text)\n",
    "\n",
    "dic = {'companyName': company, 'datePublished': date, 'ratingValue': review, 'reviewTitle': title, 'reviewBody':desc}  \n",
    "df = pd.DataFrame(dic)\n",
    "df.to_csv('scaper.csv', index=False)"
   ]
  },
  {
   "cell_type": "code",
   "execution_count": null,
   "id": "93718db6",
   "metadata": {},
   "outputs": [],
   "source": []
  }
 ],
 "metadata": {
  "kernelspec": {
   "display_name": "Python 3 (ipykernel)",
   "language": "python",
   "name": "python3"
  },
  "language_info": {
   "codemirror_mode": {
    "name": "ipython",
    "version": 3
   },
   "file_extension": ".py",
   "mimetype": "text/x-python",
   "name": "python",
   "nbconvert_exporter": "python",
   "pygments_lexer": "ipython3",
   "version": "3.9.12"
  }
 },
 "nbformat": 4,
 "nbformat_minor": 5
}
